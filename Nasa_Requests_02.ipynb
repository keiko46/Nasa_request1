{
 "cells": [
  {
   "cell_type": "code",
   "execution_count": 12,
   "metadata": {},
   "outputs": [],
   "source": [
    "URL = 'ftp://ita.ee.lbl.gov/traces/NASA_access_log_Aug95.gz'\n"
   ]
  },
  {
   "cell_type": "code",
   "execution_count": 13,
   "metadata": {},
   "outputs": [
    {
     "data": {
      "text/plain": [
       "('NASA_access_log_Aug95.gz', <email.message.Message at 0x22153a90>)"
      ]
     },
     "execution_count": 13,
     "metadata": {},
     "output_type": "execute_result"
    }
   ],
   "source": [
    "from urllib.request import urlretrieve\n",
    "urlretrieve(URL, 'NASA_access_log_Aug95.gz')"
   ]
  },
  {
   "cell_type": "code",
   "execution_count": 14,
   "metadata": {},
   "outputs": [],
   "source": [
    "import gzip\n",
    "import shutil\n",
    "with gzip.open('NASA_access_log_Aug95.gz', 'rb') as f_in:\n",
    "    with open('NASA_access_log_Aug95.csv', 'wb') as f_out:\n",
    "        shutil.copyfileobj(f_in, f_out)"
   ]
  },
  {
   "cell_type": "code",
   "execution_count": 15,
   "metadata": {},
   "outputs": [],
   "source": [
    "import csv\n",
    "with open('NASA_access_log_Aug95.csv') as csvfile:\n",
    "    readCSV2 = csv.reader(csvfile, delimiter=' ')"
   ]
  },
  {
   "cell_type": "code",
   "execution_count": 16,
   "metadata": {},
   "outputs": [
    {
     "name": "stdout",
     "output_type": "stream",
     "text": [
      "<_csv.reader object at 0x0000000022099730>\n"
     ]
    }
   ],
   "source": [
    "print(readCSV2)"
   ]
  },
  {
   "cell_type": "code",
   "execution_count": 17,
   "metadata": {},
   "outputs": [
    {
     "data": {
      "text/plain": [
       "<_csv.reader at 0x22099730>"
      ]
     },
     "execution_count": 17,
     "metadata": {},
     "output_type": "execute_result"
    }
   ],
   "source": [
    "readCSV2"
   ]
  },
  {
   "cell_type": "code",
   "execution_count": 19,
   "metadata": {},
   "outputs": [
    {
     "data": {
      "text/html": [
       "<div>\n",
       "<style scoped>\n",
       "    .dataframe tbody tr th:only-of-type {\n",
       "        vertical-align: middle;\n",
       "    }\n",
       "\n",
       "    .dataframe tbody tr th {\n",
       "        vertical-align: top;\n",
       "    }\n",
       "\n",
       "    .dataframe thead th {\n",
       "        text-align: right;\n",
       "    }\n",
       "</style>\n",
       "<table border=\"1\" class=\"dataframe\">\n",
       "  <thead>\n",
       "    <tr style=\"text-align: right;\">\n",
       "      <th></th>\n",
       "      <th>Host</th>\n",
       "      <th>1</th>\n",
       "      <th>2</th>\n",
       "      <th>Timestamp</th>\n",
       "      <th>Timezone</th>\n",
       "      <th>Requisicao</th>\n",
       "      <th>Retorno_HTTP</th>\n",
       "      <th>Total_de_bytes_retornados</th>\n",
       "    </tr>\n",
       "  </thead>\n",
       "  <tbody>\n",
       "    <tr>\n",
       "      <th>0</th>\n",
       "      <td>in24.inetnebr.com</td>\n",
       "      <td>-</td>\n",
       "      <td>-</td>\n",
       "      <td>[01/Aug/1995:00:00:01</td>\n",
       "      <td>-0400]</td>\n",
       "      <td>GET /shuttle/missions/sts-68/news/sts-68-mcc-0...</td>\n",
       "      <td>200</td>\n",
       "      <td>1839</td>\n",
       "    </tr>\n",
       "    <tr>\n",
       "      <th>1</th>\n",
       "      <td>uplherc.upl.com</td>\n",
       "      <td>-</td>\n",
       "      <td>-</td>\n",
       "      <td>[01/Aug/1995:00:00:07</td>\n",
       "      <td>-0400]</td>\n",
       "      <td>GET / HTTP/1.0</td>\n",
       "      <td>304</td>\n",
       "      <td>0</td>\n",
       "    </tr>\n",
       "    <tr>\n",
       "      <th>2</th>\n",
       "      <td>uplherc.upl.com</td>\n",
       "      <td>-</td>\n",
       "      <td>-</td>\n",
       "      <td>[01/Aug/1995:00:00:08</td>\n",
       "      <td>-0400]</td>\n",
       "      <td>GET /images/ksclogo-medium.gif HTTP/1.0</td>\n",
       "      <td>304</td>\n",
       "      <td>0</td>\n",
       "    </tr>\n",
       "    <tr>\n",
       "      <th>3</th>\n",
       "      <td>uplherc.upl.com</td>\n",
       "      <td>-</td>\n",
       "      <td>-</td>\n",
       "      <td>[01/Aug/1995:00:00:08</td>\n",
       "      <td>-0400]</td>\n",
       "      <td>GET /images/MOSAIC-logosmall.gif HTTP/1.0</td>\n",
       "      <td>304</td>\n",
       "      <td>0</td>\n",
       "    </tr>\n",
       "    <tr>\n",
       "      <th>4</th>\n",
       "      <td>uplherc.upl.com</td>\n",
       "      <td>-</td>\n",
       "      <td>-</td>\n",
       "      <td>[01/Aug/1995:00:00:08</td>\n",
       "      <td>-0400]</td>\n",
       "      <td>GET /images/USA-logosmall.gif HTTP/1.0</td>\n",
       "      <td>304</td>\n",
       "      <td>0</td>\n",
       "    </tr>\n",
       "    <tr>\n",
       "      <th>5</th>\n",
       "      <td>ix-esc-ca2-07.ix.netcom.com</td>\n",
       "      <td>-</td>\n",
       "      <td>-</td>\n",
       "      <td>[01/Aug/1995:00:00:09</td>\n",
       "      <td>-0400]</td>\n",
       "      <td>GET /images/launch-logo.gif HTTP/1.0</td>\n",
       "      <td>200</td>\n",
       "      <td>1713</td>\n",
       "    </tr>\n",
       "    <tr>\n",
       "      <th>6</th>\n",
       "      <td>uplherc.upl.com</td>\n",
       "      <td>-</td>\n",
       "      <td>-</td>\n",
       "      <td>[01/Aug/1995:00:00:10</td>\n",
       "      <td>-0400]</td>\n",
       "      <td>GET /images/WORLD-logosmall.gif HTTP/1.0</td>\n",
       "      <td>304</td>\n",
       "      <td>0</td>\n",
       "    </tr>\n",
       "    <tr>\n",
       "      <th>7</th>\n",
       "      <td>slppp6.intermind.net</td>\n",
       "      <td>-</td>\n",
       "      <td>-</td>\n",
       "      <td>[01/Aug/1995:00:00:10</td>\n",
       "      <td>-0400]</td>\n",
       "      <td>GET /history/skylab/skylab.html HTTP/1.0</td>\n",
       "      <td>200</td>\n",
       "      <td>1687</td>\n",
       "    </tr>\n",
       "    <tr>\n",
       "      <th>8</th>\n",
       "      <td>piweba4y.prodigy.com</td>\n",
       "      <td>-</td>\n",
       "      <td>-</td>\n",
       "      <td>[01/Aug/1995:00:00:10</td>\n",
       "      <td>-0400]</td>\n",
       "      <td>GET /images/launchmedium.gif HTTP/1.0</td>\n",
       "      <td>200</td>\n",
       "      <td>11853</td>\n",
       "    </tr>\n",
       "    <tr>\n",
       "      <th>9</th>\n",
       "      <td>slppp6.intermind.net</td>\n",
       "      <td>-</td>\n",
       "      <td>-</td>\n",
       "      <td>[01/Aug/1995:00:00:11</td>\n",
       "      <td>-0400]</td>\n",
       "      <td>GET /history/skylab/skylab-small.gif HTTP/1.0</td>\n",
       "      <td>200</td>\n",
       "      <td>9202</td>\n",
       "    </tr>\n",
       "  </tbody>\n",
       "</table>\n",
       "</div>"
      ],
      "text/plain": [
       "                          Host  1  2              Timestamp Timezone  \\\n",
       "0            in24.inetnebr.com  -  -  [01/Aug/1995:00:00:01   -0400]   \n",
       "1              uplherc.upl.com  -  -  [01/Aug/1995:00:00:07   -0400]   \n",
       "2              uplherc.upl.com  -  -  [01/Aug/1995:00:00:08   -0400]   \n",
       "3              uplherc.upl.com  -  -  [01/Aug/1995:00:00:08   -0400]   \n",
       "4              uplherc.upl.com  -  -  [01/Aug/1995:00:00:08   -0400]   \n",
       "5  ix-esc-ca2-07.ix.netcom.com  -  -  [01/Aug/1995:00:00:09   -0400]   \n",
       "6              uplherc.upl.com  -  -  [01/Aug/1995:00:00:10   -0400]   \n",
       "7         slppp6.intermind.net  -  -  [01/Aug/1995:00:00:10   -0400]   \n",
       "8         piweba4y.prodigy.com  -  -  [01/Aug/1995:00:00:10   -0400]   \n",
       "9         slppp6.intermind.net  -  -  [01/Aug/1995:00:00:11   -0400]   \n",
       "\n",
       "                                          Requisicao Retorno_HTTP  \\\n",
       "0  GET /shuttle/missions/sts-68/news/sts-68-mcc-0...          200   \n",
       "1                                     GET / HTTP/1.0          304   \n",
       "2            GET /images/ksclogo-medium.gif HTTP/1.0          304   \n",
       "3          GET /images/MOSAIC-logosmall.gif HTTP/1.0          304   \n",
       "4             GET /images/USA-logosmall.gif HTTP/1.0          304   \n",
       "5               GET /images/launch-logo.gif HTTP/1.0          200   \n",
       "6           GET /images/WORLD-logosmall.gif HTTP/1.0          304   \n",
       "7           GET /history/skylab/skylab.html HTTP/1.0          200   \n",
       "8              GET /images/launchmedium.gif HTTP/1.0          200   \n",
       "9      GET /history/skylab/skylab-small.gif HTTP/1.0          200   \n",
       "\n",
       "  Total_de_bytes_retornados  \n",
       "0                      1839  \n",
       "1                         0  \n",
       "2                         0  \n",
       "3                         0  \n",
       "4                         0  \n",
       "5                      1713  \n",
       "6                         0  \n",
       "7                      1687  \n",
       "8                     11853  \n",
       "9                      9202  "
      ]
     },
     "execution_count": 19,
     "metadata": {},
     "output_type": "execute_result"
    }
   ],
   "source": [
    "import pandas as pd\n",
    "import numpy as np\n",
    "import csv\n",
    "column_names = ['Host','1','2','Timestamp','Timezone','Requisicao','Retorno_HTTP','Total_de_bytes_retornados']\n",
    "data = pd.read_csv('NASA_access_log_Aug95.csv', names=column_names, delimiter=' ', encoding='ISO-8859-1', low_memory=False)\n",
    "data.head(10)"
   ]
  },
  {
   "cell_type": "code",
   "execution_count": 20,
   "metadata": {},
   "outputs": [
    {
     "data": {
      "text/plain": [
       "75060"
      ]
     },
     "execution_count": 20,
     "metadata": {},
     "output_type": "execute_result"
    }
   ],
   "source": [
    "df = data.groupby('Host').nunique()\n",
    "df['Host'].count()"
   ]
  },
  {
   "cell_type": "code",
   "execution_count": 21,
   "metadata": {},
   "outputs": [
    {
     "data": {
      "text/plain": [
       "Retorno_HTTP\n",
       "200                  1398987\n",
       "302                    26497\n",
       "304                   134146\n",
       "400                       10\n",
       "403                      171\n",
       "404                    10040\n",
       "500                        3\n",
       "501                       27\n",
       "HTTP/1.0\"                 16\n",
       "images/ssbuv1.gif          1\n",
       "Name: Retorno_HTTP, dtype: int64"
      ]
     },
     "execution_count": 21,
     "metadata": {},
     "output_type": "execute_result"
    }
   ],
   "source": [
    "data.groupby('Retorno_HTTP').Retorno_HTTP.count()"
   ]
  },
  {
   "cell_type": "code",
   "execution_count": null,
   "metadata": {},
   "outputs": [],
   "source": []
  }
 ],
 "metadata": {
  "kernelspec": {
   "display_name": "Python 3",
   "language": "python",
   "name": "python3"
  },
  "language_info": {
   "codemirror_mode": {
    "name": "ipython",
    "version": 3
   },
   "file_extension": ".py",
   "mimetype": "text/x-python",
   "name": "python",
   "nbconvert_exporter": "python",
   "pygments_lexer": "ipython3",
   "version": "3.7.0"
  }
 },
 "nbformat": 4,
 "nbformat_minor": 2
}
