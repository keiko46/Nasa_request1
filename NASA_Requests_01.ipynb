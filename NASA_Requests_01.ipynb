{
 "cells": [
  {
   "cell_type": "markdown",
   "metadata": {},
   "source": [
    "# NASA Requests"
   ]
  },
  {
   "cell_type": "code",
   "execution_count": 5,
   "metadata": {},
   "outputs": [],
   "source": [
    "URL = 'ftp://ita.ee.lbl.gov/traces/NASA_access_log_Jul95.gz'"
   ]
  },
  {
   "cell_type": "code",
   "execution_count": 7,
   "metadata": {},
   "outputs": [
    {
     "data": {
      "text/plain": [
       "('NASA_access_log_Jul95.gz', <email.message.Message at 0x517bf60>)"
      ]
     },
     "execution_count": 7,
     "metadata": {},
     "output_type": "execute_result"
    }
   ],
   "source": [
    "from urllib.request import urlretrieve\n",
    "urlretrieve(URL, 'NASA_access_log_Jul95.gz')"
   ]
  },
  {
   "cell_type": "code",
   "execution_count": 39,
   "metadata": {},
   "outputs": [],
   "source": [
    "import gzip\n",
    "import shutil\n",
    "with gzip.open('NASA_access_log_Jul95.gz', 'rb') as f_in:\n",
    "    with open('NASA_access_log_Jul95.csv', 'wb') as f_out:\n",
    "        shutil.copyfileobj(f_in, f_out)"
   ]
  },
  {
   "cell_type": "code",
   "execution_count": 29,
   "metadata": {},
   "outputs": [],
   "source": [
    "import csv\n",
    "with open('NASA_access_log_Jul95.csv') as csvfile:\n",
    "    readCSV = csv.reader(csvfile, delimiter=' ')\n",
    "   "
   ]
  },
  {
   "cell_type": "code",
   "execution_count": 37,
   "metadata": {},
   "outputs": [
    {
     "name": "stdout",
     "output_type": "stream",
     "text": [
      "<_csv.reader object at 0x00000000086E3DB0>\n"
     ]
    }
   ],
   "source": [
    "print(readCSV)"
   ]
  },
  {
   "cell_type": "code",
   "execution_count": 43,
   "metadata": {},
   "outputs": [
    {
     "data": {
      "text/plain": [
       "<_csv.reader at 0x86e3db0>"
      ]
     },
     "execution_count": 43,
     "metadata": {},
     "output_type": "execute_result"
    }
   ],
   "source": [
    "readCSV"
   ]
  },
  {
   "cell_type": "code",
   "execution_count": 72,
   "metadata": {},
   "outputs": [],
   "source": [
    "import pandas as pd\n",
    "import numpy as np\n",
    "import csv\n",
    "column_names = ['Host','1','2','Timestamp','Timezone','Requisicao','Retorno_HTTP','Total_de_bytes_retornados']\n"
   ]
  },
  {
   "cell_type": "code",
   "execution_count": 73,
   "metadata": {},
   "outputs": [],
   "source": [
    "data = pd.read_csv('NASA_access_log_Jul95.csv', names=column_names, delimiter=' ', encoding='ISO-8859-1', low_memory=False)"
   ]
  },
  {
   "cell_type": "code",
   "execution_count": 140,
   "metadata": {},
   "outputs": [
    {
     "data": {
      "text/html": [
       "<div>\n",
       "<style scoped>\n",
       "    .dataframe tbody tr th:only-of-type {\n",
       "        vertical-align: middle;\n",
       "    }\n",
       "\n",
       "    .dataframe tbody tr th {\n",
       "        vertical-align: top;\n",
       "    }\n",
       "\n",
       "    .dataframe thead th {\n",
       "        text-align: right;\n",
       "    }\n",
       "</style>\n",
       "<table border=\"1\" class=\"dataframe\">\n",
       "  <thead>\n",
       "    <tr style=\"text-align: right;\">\n",
       "      <th></th>\n",
       "      <th>Host</th>\n",
       "      <th>1</th>\n",
       "      <th>2</th>\n",
       "      <th>Timestamp</th>\n",
       "      <th>Timezone</th>\n",
       "      <th>Requisicao</th>\n",
       "      <th>Retorno_HTTP</th>\n",
       "      <th>Total_de_bytes_retornados</th>\n",
       "    </tr>\n",
       "  </thead>\n",
       "  <tbody>\n",
       "    <tr>\n",
       "      <th>0</th>\n",
       "      <td>199.72.81.55</td>\n",
       "      <td>-</td>\n",
       "      <td>-</td>\n",
       "      <td>[01/Jul/1995:00:00:01</td>\n",
       "      <td>-0400]</td>\n",
       "      <td>GET /history/apollo/ HTTP/1.0</td>\n",
       "      <td>200</td>\n",
       "      <td>6245</td>\n",
       "    </tr>\n",
       "    <tr>\n",
       "      <th>1</th>\n",
       "      <td>unicomp6.unicomp.net</td>\n",
       "      <td>-</td>\n",
       "      <td>-</td>\n",
       "      <td>[01/Jul/1995:00:00:06</td>\n",
       "      <td>-0400]</td>\n",
       "      <td>GET /shuttle/countdown/ HTTP/1.0</td>\n",
       "      <td>200</td>\n",
       "      <td>3985</td>\n",
       "    </tr>\n",
       "    <tr>\n",
       "      <th>2</th>\n",
       "      <td>199.120.110.21</td>\n",
       "      <td>-</td>\n",
       "      <td>-</td>\n",
       "      <td>[01/Jul/1995:00:00:09</td>\n",
       "      <td>-0400]</td>\n",
       "      <td>GET /shuttle/missions/sts-73/mission-sts-73.ht...</td>\n",
       "      <td>200</td>\n",
       "      <td>4085</td>\n",
       "    </tr>\n",
       "    <tr>\n",
       "      <th>3</th>\n",
       "      <td>burger.letters.com</td>\n",
       "      <td>-</td>\n",
       "      <td>-</td>\n",
       "      <td>[01/Jul/1995:00:00:11</td>\n",
       "      <td>-0400]</td>\n",
       "      <td>GET /shuttle/countdown/liftoff.html HTTP/1.0</td>\n",
       "      <td>304</td>\n",
       "      <td>0</td>\n",
       "    </tr>\n",
       "    <tr>\n",
       "      <th>4</th>\n",
       "      <td>199.120.110.21</td>\n",
       "      <td>-</td>\n",
       "      <td>-</td>\n",
       "      <td>[01/Jul/1995:00:00:11</td>\n",
       "      <td>-0400]</td>\n",
       "      <td>GET /shuttle/missions/sts-73/sts-73-patch-smal...</td>\n",
       "      <td>200</td>\n",
       "      <td>4179</td>\n",
       "    </tr>\n",
       "    <tr>\n",
       "      <th>5</th>\n",
       "      <td>burger.letters.com</td>\n",
       "      <td>-</td>\n",
       "      <td>-</td>\n",
       "      <td>[01/Jul/1995:00:00:12</td>\n",
       "      <td>-0400]</td>\n",
       "      <td>GET /images/NASA-logosmall.gif HTTP/1.0</td>\n",
       "      <td>304</td>\n",
       "      <td>0</td>\n",
       "    </tr>\n",
       "    <tr>\n",
       "      <th>6</th>\n",
       "      <td>burger.letters.com</td>\n",
       "      <td>-</td>\n",
       "      <td>-</td>\n",
       "      <td>[01/Jul/1995:00:00:12</td>\n",
       "      <td>-0400]</td>\n",
       "      <td>GET /shuttle/countdown/video/livevideo.gif HTT...</td>\n",
       "      <td>200</td>\n",
       "      <td>0</td>\n",
       "    </tr>\n",
       "    <tr>\n",
       "      <th>7</th>\n",
       "      <td>205.212.115.106</td>\n",
       "      <td>-</td>\n",
       "      <td>-</td>\n",
       "      <td>[01/Jul/1995:00:00:12</td>\n",
       "      <td>-0400]</td>\n",
       "      <td>GET /shuttle/countdown/countdown.html HTTP/1.0</td>\n",
       "      <td>200</td>\n",
       "      <td>3985</td>\n",
       "    </tr>\n",
       "    <tr>\n",
       "      <th>8</th>\n",
       "      <td>d104.aa.net</td>\n",
       "      <td>-</td>\n",
       "      <td>-</td>\n",
       "      <td>[01/Jul/1995:00:00:13</td>\n",
       "      <td>-0400]</td>\n",
       "      <td>GET /shuttle/countdown/ HTTP/1.0</td>\n",
       "      <td>200</td>\n",
       "      <td>3985</td>\n",
       "    </tr>\n",
       "    <tr>\n",
       "      <th>9</th>\n",
       "      <td>129.94.144.152</td>\n",
       "      <td>-</td>\n",
       "      <td>-</td>\n",
       "      <td>[01/Jul/1995:00:00:13</td>\n",
       "      <td>-0400]</td>\n",
       "      <td>GET / HTTP/1.0</td>\n",
       "      <td>200</td>\n",
       "      <td>7074</td>\n",
       "    </tr>\n",
       "  </tbody>\n",
       "</table>\n",
       "</div>"
      ],
      "text/plain": [
       "                   Host  1  2              Timestamp Timezone  \\\n",
       "0          199.72.81.55  -  -  [01/Jul/1995:00:00:01   -0400]   \n",
       "1  unicomp6.unicomp.net  -  -  [01/Jul/1995:00:00:06   -0400]   \n",
       "2        199.120.110.21  -  -  [01/Jul/1995:00:00:09   -0400]   \n",
       "3    burger.letters.com  -  -  [01/Jul/1995:00:00:11   -0400]   \n",
       "4        199.120.110.21  -  -  [01/Jul/1995:00:00:11   -0400]   \n",
       "5    burger.letters.com  -  -  [01/Jul/1995:00:00:12   -0400]   \n",
       "6    burger.letters.com  -  -  [01/Jul/1995:00:00:12   -0400]   \n",
       "7       205.212.115.106  -  -  [01/Jul/1995:00:00:12   -0400]   \n",
       "8           d104.aa.net  -  -  [01/Jul/1995:00:00:13   -0400]   \n",
       "9        129.94.144.152  -  -  [01/Jul/1995:00:00:13   -0400]   \n",
       "\n",
       "                                          Requisicao Retorno_HTTP  \\\n",
       "0                      GET /history/apollo/ HTTP/1.0          200   \n",
       "1                   GET /shuttle/countdown/ HTTP/1.0          200   \n",
       "2  GET /shuttle/missions/sts-73/mission-sts-73.ht...          200   \n",
       "3       GET /shuttle/countdown/liftoff.html HTTP/1.0          304   \n",
       "4  GET /shuttle/missions/sts-73/sts-73-patch-smal...          200   \n",
       "5            GET /images/NASA-logosmall.gif HTTP/1.0          304   \n",
       "6  GET /shuttle/countdown/video/livevideo.gif HTT...          200   \n",
       "7     GET /shuttle/countdown/countdown.html HTTP/1.0          200   \n",
       "8                   GET /shuttle/countdown/ HTTP/1.0          200   \n",
       "9                                     GET / HTTP/1.0          200   \n",
       "\n",
       "  Total_de_bytes_retornados  \n",
       "0                      6245  \n",
       "1                      3985  \n",
       "2                      4085  \n",
       "3                         0  \n",
       "4                      4179  \n",
       "5                         0  \n",
       "6                         0  \n",
       "7                      3985  \n",
       "8                      3985  \n",
       "9                      7074  "
      ]
     },
     "execution_count": 140,
     "metadata": {},
     "output_type": "execute_result"
    }
   ],
   "source": [
    "data.head(10)"
   ]
  },
  {
   "cell_type": "code",
   "execution_count": 75,
   "metadata": {},
   "outputs": [
    {
     "data": {
      "text/plain": [
       "81983"
      ]
     },
     "execution_count": 75,
     "metadata": {},
     "output_type": "execute_result"
    }
   ],
   "source": [
    "df = data.groupby('Host').nunique()\n",
    "df['Host'].count()"
   ]
  },
  {
   "cell_type": "code",
   "execution_count": 76,
   "metadata": {},
   "outputs": [
    {
     "data": {
      "text/plain": [
       "Retorno_HTTP\n",
       "200          1701534\n",
       "302            46573\n",
       "304           132627\n",
       "400                5\n",
       "403               53\n",
       "404            10832\n",
       "500               62\n",
       "501               14\n",
       "HTTP/1.0\"         13\n",
       "of                 1\n",
       "Name: Retorno_HTTP, dtype: int64"
      ]
     },
     "execution_count": 76,
     "metadata": {},
     "output_type": "execute_result"
    }
   ],
   "source": [
    "data.groupby('Retorno_HTTP').Retorno_HTTP.count()"
   ]
  },
  {
   "cell_type": "code",
   "execution_count": 81,
   "metadata": {},
   "outputs": [
    {
     "data": {
      "text/html": [
       "<div>\n",
       "<style scoped>\n",
       "    .dataframe tbody tr th:only-of-type {\n",
       "        vertical-align: middle;\n",
       "    }\n",
       "\n",
       "    .dataframe tbody tr th {\n",
       "        vertical-align: top;\n",
       "    }\n",
       "\n",
       "    .dataframe thead th {\n",
       "        text-align: right;\n",
       "    }\n",
       "</style>\n",
       "<table border=\"1\" class=\"dataframe\">\n",
       "  <thead>\n",
       "    <tr style=\"text-align: right;\">\n",
       "      <th></th>\n",
       "      <th>Host</th>\n",
       "      <th>1</th>\n",
       "      <th>2</th>\n",
       "      <th>Timestamp</th>\n",
       "      <th>Timezone</th>\n",
       "      <th>Requisicao</th>\n",
       "      <th>Retorno_HTTP</th>\n",
       "      <th>Total_de_bytes_retornados</th>\n",
       "    </tr>\n",
       "  </thead>\n",
       "  <tbody>\n",
       "    <tr>\n",
       "      <th>0</th>\n",
       "      <td>199.72.81.55</td>\n",
       "      <td>-</td>\n",
       "      <td>-</td>\n",
       "      <td>[01/Jul/1995:00:00:01</td>\n",
       "      <td>-0400]</td>\n",
       "      <td>GET /history/apollo/ HTTP/1.0</td>\n",
       "      <td>200</td>\n",
       "      <td>6245</td>\n",
       "    </tr>\n",
       "    <tr>\n",
       "      <th>1233241</th>\n",
       "      <td>piweba4y.prodigy.com</td>\n",
       "      <td>-</td>\n",
       "      <td>-</td>\n",
       "      <td>[17/Jul/1995:13:27:26</td>\n",
       "      <td>-0400]</td>\n",
       "      <td>GET /shuttle/missions/sts-70/movies/sts-70-lau...</td>\n",
       "      <td>200</td>\n",
       "      <td>190757</td>\n",
       "    </tr>\n",
       "    <tr>\n",
       "      <th>1233239</th>\n",
       "      <td>163.205.150.14</td>\n",
       "      <td>-</td>\n",
       "      <td>-</td>\n",
       "      <td>[17/Jul/1995:13:27:24</td>\n",
       "      <td>-0400]</td>\n",
       "      <td>GET /icons/image.xbm HTTP/1.0</td>\n",
       "      <td>200</td>\n",
       "      <td>509</td>\n",
       "    </tr>\n",
       "    <tr>\n",
       "      <th>1233238</th>\n",
       "      <td>e659229.boeing.com</td>\n",
       "      <td>-</td>\n",
       "      <td>-</td>\n",
       "      <td>[17/Jul/1995:13:27:24</td>\n",
       "      <td>-0400]</td>\n",
       "      <td>GET /shuttle/missions/sts-70/mission-sts-70.ht...</td>\n",
       "      <td>200</td>\n",
       "      <td>14745</td>\n",
       "    </tr>\n",
       "    <tr>\n",
       "      <th>1233237</th>\n",
       "      <td>www-proxy.crl.research.digital.com</td>\n",
       "      <td>-</td>\n",
       "      <td>-</td>\n",
       "      <td>[17/Jul/1995:13:27:24</td>\n",
       "      <td>-0400]</td>\n",
       "      <td>GET /images/NASA-logosmall.gif HTTP/1.0</td>\n",
       "      <td>200</td>\n",
       "      <td>786</td>\n",
       "    </tr>\n",
       "  </tbody>\n",
       "</table>\n",
       "</div>"
      ],
      "text/plain": [
       "                                       Host  1  2              Timestamp  \\\n",
       "0                              199.72.81.55  -  -  [01/Jul/1995:00:00:01   \n",
       "1233241                piweba4y.prodigy.com  -  -  [17/Jul/1995:13:27:26   \n",
       "1233239                      163.205.150.14  -  -  [17/Jul/1995:13:27:24   \n",
       "1233238                  e659229.boeing.com  -  -  [17/Jul/1995:13:27:24   \n",
       "1233237  www-proxy.crl.research.digital.com  -  -  [17/Jul/1995:13:27:24   \n",
       "\n",
       "        Timezone                                         Requisicao  \\\n",
       "0         -0400]                      GET /history/apollo/ HTTP/1.0   \n",
       "1233241   -0400]  GET /shuttle/missions/sts-70/movies/sts-70-lau...   \n",
       "1233239   -0400]                      GET /icons/image.xbm HTTP/1.0   \n",
       "1233238   -0400]  GET /shuttle/missions/sts-70/mission-sts-70.ht...   \n",
       "1233237   -0400]            GET /images/NASA-logosmall.gif HTTP/1.0   \n",
       "\n",
       "        Retorno_HTTP Total_de_bytes_retornados  \n",
       "0                200                      6245  \n",
       "1233241          200                    190757  \n",
       "1233239          200                       509  \n",
       "1233238          200                     14745  \n",
       "1233237          200                       786  "
      ]
     },
     "execution_count": 81,
     "metadata": {},
     "output_type": "execute_result"
    }
   ],
   "source": [
    "data.sort_values('Retorno_HTTP',).head()"
   ]
  },
  {
   "cell_type": "code",
   "execution_count": null,
   "metadata": {},
   "outputs": [],
   "source": [
    "data['Retorno_HTTP'] = data.Retorno_HTTP.str."
   ]
  },
  {
   "cell_type": "code",
   "execution_count": 135,
   "metadata": {},
   "outputs": [
    {
     "ename": "AttributeError",
     "evalue": "'list' object has no attribute 'asobject'",
     "output_type": "error",
     "traceback": [
      "\u001b[1;31m---------------------------------------------------------------------------\u001b[0m",
      "\u001b[1;31mAttributeError\u001b[0m                            Traceback (most recent call last)",
      "\u001b[1;32m<ipython-input-135-970097f5dcf8>\u001b[0m in \u001b[0;36m<module>\u001b[1;34m()\u001b[0m\n\u001b[0;32m      1\u001b[0m \u001b[0mboolean\u001b[0m \u001b[1;33m=\u001b[0m \u001b[1;33m[\u001b[0m\u001b[1;33m]\u001b[0m\u001b[1;33m\u001b[0m\u001b[0m\n\u001b[1;32m----> 2\u001b[1;33m \u001b[0mi\u001b[0m \u001b[1;33m=\u001b[0m \u001b[1;33m[\u001b[0m\u001b[1;33m]\u001b[0m\u001b[1;33m.\u001b[0m\u001b[0masobject\u001b[0m\u001b[1;33m\u001b[0m\u001b[0m\n\u001b[0m\u001b[0;32m      3\u001b[0m \u001b[1;32mfor\u001b[0m \u001b[0mi\u001b[0m \u001b[1;32min\u001b[0m \u001b[0mdata\u001b[0m\u001b[1;33m[\u001b[0m\u001b[1;34m'Retorno_HTTP'\u001b[0m\u001b[1;33m]\u001b[0m\u001b[1;33m:\u001b[0m\u001b[1;33m\u001b[0m\u001b[0m\n\u001b[0;32m      4\u001b[0m     \u001b[1;32mif\u001b[0m \u001b[0mi\u001b[0m \u001b[1;32mis\u001b[0m \u001b[1;34m\"404\"\u001b[0m\u001b[1;33m:\u001b[0m\u001b[1;33m\u001b[0m\u001b[0m\n\u001b[0;32m      5\u001b[0m         \u001b[0mboolean\u001b[0m\u001b[1;33m.\u001b[0m\u001b[0mappend\u001b[0m\u001b[1;33m(\u001b[0m\u001b[1;32mTrue\u001b[0m\u001b[1;33m)\u001b[0m\u001b[1;33m\u001b[0m\u001b[0m\n",
      "\u001b[1;31mAttributeError\u001b[0m: 'list' object has no attribute 'asobject'"
     ]
    }
   ],
   "source": [
    "boolean = []\n",
    "i = [].asobject\n",
    "for i in data['Retorno_HTTP']:\n",
    "    if i is \"404\":\n",
    "        boolean.append(True)\n",
    "    else:\n",
    "        boolean.append(False)"
   ]
  },
  {
   "cell_type": "code",
   "execution_count": 132,
   "metadata": {},
   "outputs": [
    {
     "data": {
      "text/plain": [
       "[False, False, False, False, False, False, False, False, False, False]"
      ]
     },
     "execution_count": 132,
     "metadata": {},
     "output_type": "execute_result"
    }
   ],
   "source": [
    "boolean[0:10]"
   ]
  },
  {
   "cell_type": "code",
   "execution_count": 138,
   "metadata": {},
   "outputs": [
    {
     "name": "stdout",
     "output_type": "stream",
     "text": [
      "                         Host  1  2              Timestamp Timezone  \\\n",
      "0                199.72.81.55  -  -  [01/Jul/1995:00:00:01   -0400]   \n",
      "1233241  piweba4y.prodigy.com  -  -  [17/Jul/1995:13:27:26   -0400]   \n",
      "1233239        163.205.150.14  -  -  [17/Jul/1995:13:27:24   -0400]   \n",
      "\n",
      "                                                Requisicao Retorno_HTTP  \\\n",
      "0                            GET /history/apollo/ HTTP/1.0          200   \n",
      "1233241  GET /shuttle/missions/sts-70/movies/sts-70-lau...          200   \n",
      "1233239                      GET /icons/image.xbm HTTP/1.0          200   \n",
      "\n",
      "        Total_de_bytes_retornados  \n",
      "0                            6245  \n",
      "1233241                    190757  \n",
      "1233239                       509  \n"
     ]
    }
   ],
   "source": [
    "sort_by_error = data.sort_values('Retorno_HTTP')\n",
    "print(sort_by_error.head(n=3))"
   ]
  },
  {
   "cell_type": "code",
   "execution_count": 139,
   "metadata": {},
   "outputs": [
    {
     "data": {
      "text/plain": [
       "1208937"
      ]
     },
     "execution_count": 139,
     "metadata": {},
     "output_type": "execute_result"
    }
   ],
   "source": [
    "df.Total_de_bytes_retornados.sum()"
   ]
  },
  {
   "cell_type": "code",
   "execution_count": 141,
   "metadata": {},
   "outputs": [
    {
     "data": {
      "text/plain": [
       "1891715"
      ]
     },
     "execution_count": 141,
     "metadata": {},
     "output_type": "execute_result"
    }
   ],
   "source": [
    "len(data)"
   ]
  },
  {
   "cell_type": "code",
   "execution_count": null,
   "metadata": {},
   "outputs": [],
   "source": []
  }
 ],
 "metadata": {
  "kernelspec": {
   "display_name": "Python 3",
   "language": "python",
   "name": "python3"
  },
  "language_info": {
   "codemirror_mode": {
    "name": "ipython",
    "version": 3
   },
   "file_extension": ".py",
   "mimetype": "text/x-python",
   "name": "python",
   "nbconvert_exporter": "python",
   "pygments_lexer": "ipython3",
   "version": "3.7.0"
  }
 },
 "nbformat": 4,
 "nbformat_minor": 2
}
